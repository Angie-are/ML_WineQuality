{
 "cells": [
  {
   "cell_type": "code",
   "execution_count": 8,
   "metadata": {},
   "outputs": [],
   "source": [
    "import pandas as pd\n",
    "from sklearn.model_selection import train_test_split\n",
    "from sklearn.svm import SVR\n",
    "from sklearn.metrics import mean_squared_error\n",
    "from sklearn.preprocessing import StandardScaler\n",
    "import joblib\n",
    "\n"
   ]
  },
  {
   "cell_type": "code",
   "execution_count": 9,
   "metadata": {},
   "outputs": [],
   "source": [
    "# Cargar los datos de vino tinto y vino blanco\n",
    "red_wine = pd.read_csv(r'C:\\Users\\angel\\OneDrive\\Documentos\\DATA_SCIENCE\\Bootcamp\\ML_WineQuality\\data\\winequality-red.csv', delimiter=';')\n",
    "white_wine = pd.read_csv(r'C:\\Users\\angel\\OneDrive\\Documentos\\DATA_SCIENCE\\Bootcamp\\ML_WineQuality\\data\\winequality-white.csv', delimiter=';')\n"
   ]
  },
  {
   "cell_type": "code",
   "execution_count": 10,
   "metadata": {},
   "outputs": [
    {
     "name": "stdout",
     "output_type": "stream",
     "text": [
      "MSE para SVM vino tinto: 0.3513741345230523\n",
      "MSE para SVM vino blanco: 0.47091704987563254\n"
     ]
    }
   ],
   "source": [
    "# Separar las características (X) y la etiqueta (y) de vino tinto y vino blanco\n",
    "X_red = red_wine.drop('quality', axis=1)\n",
    "y_red = red_wine['quality']\n",
    "\n",
    "X_white = white_wine.drop('quality', axis=1)\n",
    "y_white = white_wine['quality']\n",
    "\n",
    "# Dividir los datos en entrenamiento y prueba\n",
    "X_train_red, X_test_red, y_train_red, y_test_red = train_test_split(X_red, y_red, test_size=0.2, random_state=42)\n",
    "X_train_white, X_test_white, y_train_white, y_test_white = train_test_split(X_white, y_white, test_size=0.2, random_state=42)\n",
    "\n",
    "# Escalar los datos\n",
    "scaler = StandardScaler()\n",
    "\n",
    "X_train_red_scaled = scaler.fit_transform(X_train_red)\n",
    "X_test_red_scaled = scaler.transform(X_test_red)\n",
    "\n",
    "X_train_white_scaled = scaler.fit_transform(X_train_white)\n",
    "X_test_white_scaled = scaler.transform(X_test_white)\n",
    "\n",
    "# Crear y entrenar el modelo de Support Vector Machine (SVM) para vino tinto\n",
    "svm_red = SVR(kernel='rbf')\n",
    "svm_red.fit(X_train_red_scaled, y_train_red)\n",
    "\n",
    "# Crear y entrenar el modelo de SVM para vino blanco\n",
    "svm_white = SVR(kernel='rbf')\n",
    "svm_white.fit(X_train_white_scaled, y_train_white)\n",
    "\n",
    "# Hacer predicciones para ambos conjuntos de prueba\n",
    "y_pred_svm_red = svm_red.predict(X_test_red_scaled)\n",
    "y_pred_svm_white = svm_white.predict(X_test_white_scaled)\n",
    "\n",
    "# Evaluar el modelo usando el MSE\n",
    "mse_svm_red = mean_squared_error(y_test_red, y_pred_svm_red)\n",
    "mse_svm_white = mean_squared_error(y_test_white, y_pred_svm_white)\n",
    "\n",
    "print(f'MSE para SVM vino tinto: {mse_svm_red}')\n",
    "print(f'MSE para SVM vino blanco: {mse_svm_white}')\n",
    "\n"
   ]
  },
  {
   "cell_type": "code",
   "execution_count": 11,
   "metadata": {},
   "outputs": [
    {
     "name": "stdout",
     "output_type": "stream",
     "text": [
      "Modelos guardados exitosamente.\n"
     ]
    }
   ],
   "source": [
    "\n",
    "# Guardar el modelo de SVM para vino tinto\n",
    "joblib.dump(svm_red, 'svm_red_wine_model.pkl')\n",
    "\n",
    "# Guardar el modelo de SVM para vino blanco\n",
    "joblib.dump(svm_white, 'svm_white_wine_model.pkl')\n",
    "\n",
    "print(\"Modelos guardados exitosamente.\")\n"
   ]
  },
  {
   "cell_type": "markdown",
   "metadata": {},
   "source": [
    "SVM (Support Vector Machine): Usamos un kernel radial para la regresión."
   ]
  }
 ],
 "metadata": {
  "kernelspec": {
   "display_name": "Python 3",
   "language": "python",
   "name": "python3"
  },
  "language_info": {
   "codemirror_mode": {
    "name": "ipython",
    "version": 3
   },
   "file_extension": ".py",
   "mimetype": "text/x-python",
   "name": "python",
   "nbconvert_exporter": "python",
   "pygments_lexer": "ipython3",
   "version": "3.13.0"
  }
 },
 "nbformat": 4,
 "nbformat_minor": 2
}
