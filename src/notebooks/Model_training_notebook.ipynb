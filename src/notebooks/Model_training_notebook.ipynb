{
 "cells": [
  {
   "cell_type": "markdown",
   "metadata": {},
   "source": [
    "Explicación:\n",
    "\n",
    "Usamos un modelo de regresión con RandomForestRegressor para predecir la calidad del vino.\n",
    "\n",
    "Evaluamos el modelo utilizando MSE (Error cuadrático medio) y R2 (coeficiente de determinación).\n",
    "\n",
    "Ubicación del código:\n",
    "\n",
    "Guarda este código en el notebook Model_training_notebook.ipynb dentro de la carpeta src/notebooks/."
   ]
  },
  {
   "cell_type": "code",
   "execution_count": 20,
   "metadata": {},
   "outputs": [],
   "source": [
    "import pandas as pd\n",
    "from sklearn.model_selection import train_test_split\n",
    "from sklearn.ensemble import RandomForestRegressor\n",
    "from sklearn.metrics import mean_squared_error, r2_score\n",
    "import joblib\n",
    "from sklearn.preprocessing import StandardScaler  # Añadir el escalador"
   ]
  },
  {
   "cell_type": "code",
   "execution_count": 21,
   "metadata": {},
   "outputs": [],
   "source": [
    "# Cargar los datasets de vino tinto y vino blanco con la ruta completa\n",
    "red_wine = pd.read_csv(r'C:\\Users\\angel\\OneDrive\\Documentos\\DATA_SCIENCE\\Bootcamp\\ML_WineQuality\\data\\winequality-red.csv', delimiter=';')\n",
    "white_wine = pd.read_csv(r'C:\\Users\\angel\\OneDrive\\Documentos\\DATA_SCIENCE\\Bootcamp\\ML_WineQuality\\data\\winequality-white.csv', delimiter=';')"
   ]
  },
  {
   "cell_type": "code",
   "execution_count": 22,
   "metadata": {},
   "outputs": [],
   "source": [
    "# Dividir los datos en características (X) y etiquetas (y) para el vino tinto\n",
    "X_red = red_wine.drop('quality', axis=1)  # Características del vino tinto\n",
    "y_red = red_wine['quality']  # Etiqueta de calidad del vino tinto\n",
    "\n",
    "# Dividir los datos en características (X) y etiquetas (y) para el vino blanco\n",
    "X_white = white_wine.drop('quality', axis=1)  # Características del vino blanco\n",
    "y_white = white_wine['quality']  # Etiqueta de calidad del vino blanco\n",
    "\n",
    "# Dividir los datos en conjuntos de entrenamiento y prueba para el vino tinto\n",
    "X_train_red, X_test_red, y_train_red, y_test_red = train_test_split(X_red, y_red, test_size=0.2, random_state=42)\n",
    "\n",
    "# Dividir los datos en conjuntos de entrenamiento y prueba para el vino blanco\n",
    "X_train_white, X_test_white, y_train_white, y_test_white = train_test_split(X_white, y_white, test_size=0.2, random_state=42)"
   ]
  },
  {
   "cell_type": "code",
   "execution_count": 23,
   "metadata": {},
   "outputs": [],
   "source": [
    "# Escalar las características\n",
    "scaler = StandardScaler()\n",
    "\n",
    "# Aplicar la normalización a los conjuntos de entrenamiento y prueba de vino tinto\n",
    "X_train_red = scaler.fit_transform(X_train_red)\n",
    "X_test_red = scaler.transform(X_test_red)\n",
    "\n",
    "# Aplicar la normalización a los conjuntos de entrenamiento y prueba de vino blanco\n",
    "X_train_white = scaler.fit_transform(X_train_white)\n",
    "X_test_white = scaler.transform(X_test_white)\n"
   ]
  },
  {
   "cell_type": "code",
   "execution_count": 24,
   "metadata": {},
   "outputs": [
    {
     "name": "stdout",
     "output_type": "stream",
     "text": [
      "Vino Tinto - MSE: 0.3006603124999999\n",
      "Vino Tinto - R2: 0.5399271357910311\n",
      "Vino Blanco - MSE: 0.3482283673469388\n",
      "Vino Blanco - R2: 0.5503674032406387\n"
     ]
    }
   ],
   "source": [
    "# Modelo para vino tinto\n",
    "model_red = RandomForestRegressor(random_state=42)\n",
    "model_red.fit(X_train_red, y_train_red)\n",
    "\n",
    "# Hacer predicciones para el vino tinto\n",
    "y_pred_red = model_red.predict(X_test_red)\n",
    "\n",
    "# Evaluar el modelo para el vino tinto\n",
    "mse_red = mean_squared_error(y_test_red, y_pred_red)\n",
    "r2_red = r2_score(y_test_red, y_pred_red)\n",
    "\n",
    "print(\"Vino Tinto - MSE:\", mse_red)\n",
    "print(\"Vino Tinto - R2:\", r2_red)\n",
    "\n",
    "# Modelo para vino blanco\n",
    "model_white = RandomForestRegressor(random_state=42)\n",
    "model_white.fit(X_train_white, y_train_white)\n",
    "\n",
    "# Hacer predicciones para el vino blanco\n",
    "y_pred_white = model_white.predict(X_test_white)\n",
    "\n",
    "# Evaluar el modelo para el vino blanco\n",
    "mse_white = mean_squared_error(y_test_white, y_pred_white)\n",
    "r2_white = r2_score(y_test_white, y_pred_white)\n",
    "\n",
    "print(\"Vino Blanco - MSE:\", mse_white)\n",
    "print(\"Vino Blanco - R2:\", r2_white)\n"
   ]
  },
  {
   "cell_type": "code",
   "execution_count": 25,
   "metadata": {},
   "outputs": [
    {
     "data": {
      "text/plain": [
       "['C:\\\\Users\\\\angel\\\\OneDrive\\\\Documentos\\\\DATA_SCIENCE\\\\Bootcamp\\\\ML_WineQuality\\\\src\\\\models\\\\model_white_wine.pkl']"
      ]
     },
     "execution_count": 25,
     "metadata": {},
     "output_type": "execute_result"
    }
   ],
   "source": [
    "# Guardar los modelos entrenados\n",
    "joblib.dump(model_red, r'C:\\Users\\angel\\OneDrive\\Documentos\\DATA_SCIENCE\\Bootcamp\\ML_WineQuality\\src\\models\\model_red_wine.pkl')\n",
    "joblib.dump(model_white, r'C:\\Users\\angel\\OneDrive\\Documentos\\DATA_SCIENCE\\Bootcamp\\ML_WineQuality\\src\\models\\model_white_wine.pkl')\n"
   ]
  },
  {
   "cell_type": "code",
   "execution_count": 26,
   "metadata": {},
   "outputs": [
    {
     "name": "stdout",
     "output_type": "stream",
     "text": [
      "{'Vino Tinto': {'MSE': 0.3006603124999999, 'R2': 0.5399271357910311}, 'Vino Blanco': {'MSE': 0.3482283673469388, 'R2': 0.5503674032406387}}\n"
     ]
    }
   ],
   "source": [
    "# Guardar las métricas de evaluación\n",
    "metrics = {\n",
    "    \"Vino Tinto\": {\n",
    "        \"MSE\": mse_red,\n",
    "        \"R2\": r2_red\n",
    "    },\n",
    "    \"Vino Blanco\": {\n",
    "        \"MSE\": mse_white,\n",
    "        \"R2\": r2_white\n",
    "    }\n",
    "}\n",
    "\n",
    "# Mostrar las métricas\n",
    "print(metrics)\n"
   ]
  },
  {
   "cell_type": "code",
   "execution_count": 27,
   "metadata": {},
   "outputs": [
    {
     "name": "stdout",
     "output_type": "stream",
     "text": [
      "Predicción calidad vino blanco (test): [6.84]\n",
      "Predicción calidad vino tinto (test): [6.33]\n"
     ]
    }
   ],
   "source": [
    "def predict_quality(model, test_data):\n",
    "    return model.predict(test_data)\n",
    "\n",
    "# Usar la función de predicción\n",
    "prediction_white_test = predict_quality(model_white, test_data)\n",
    "prediction_red_test = predict_quality(model_red, test_data)\n",
    "\n",
    "print(f\"Predicción calidad vino blanco (test): {prediction_white_test}\")\n",
    "print(f\"Predicción calidad vino tinto (test): {prediction_red_test}\")"
   ]
  }
 ],
 "metadata": {
  "kernelspec": {
   "display_name": "Python 3",
   "language": "python",
   "name": "python3"
  },
  "language_info": {
   "codemirror_mode": {
    "name": "ipython",
    "version": 3
   },
   "file_extension": ".py",
   "mimetype": "text/x-python",
   "name": "python",
   "nbconvert_exporter": "python",
   "pygments_lexer": "ipython3",
   "version": "3.13.0"
  }
 },
 "nbformat": 4,
 "nbformat_minor": 2
}
