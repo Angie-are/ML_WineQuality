{
 "cells": [
  {
   "cell_type": "code",
   "execution_count": 61,
   "metadata": {},
   "outputs": [],
   "source": [
    "import pandas as pd\n",
    "from sklearn.model_selection import train_test_split\n",
    "from sklearn.ensemble import RandomForestRegressor\n",
    "from sklearn.metrics import mean_squared_error, r2_score\n",
    "import joblib\n",
    "from sklearn.preprocessing import StandardScaler"
   ]
  },
  {
   "cell_type": "code",
   "execution_count": 62,
   "metadata": {},
   "outputs": [
    {
     "name": "stdout",
     "output_type": "stream",
     "text": [
      "Vino Tinto (red wine) - Primeras filas:\n",
      "   fixed acidity  volatile acidity  citric acid  residual sugar  chlorides  \\\n",
      "0            7.4              0.70         0.00             1.9      0.076   \n",
      "1            7.8              0.88         0.00             2.6      0.098   \n",
      "2            7.8              0.76         0.04             2.3      0.092   \n",
      "3           11.2              0.28         0.56             1.9      0.075   \n",
      "4            7.4              0.70         0.00             1.9      0.076   \n",
      "\n",
      "   free sulfur dioxide  total sulfur dioxide  density    pH  sulphates  \\\n",
      "0                 11.0                  34.0   0.9978  3.51       0.56   \n",
      "1                 25.0                  67.0   0.9968  3.20       0.68   \n",
      "2                 15.0                  54.0   0.9970  3.26       0.65   \n",
      "3                 17.0                  60.0   0.9980  3.16       0.58   \n",
      "4                 11.0                  34.0   0.9978  3.51       0.56   \n",
      "\n",
      "   alcohol  quality  \n",
      "0      9.4        5  \n",
      "1      9.8        5  \n",
      "2      9.8        5  \n",
      "3      9.8        6  \n",
      "4      9.4        5  \n",
      "\n",
      "Vino Blanco (white wine) - Primeras filas:\n",
      "   fixed acidity  volatile acidity  citric acid  residual sugar  chlorides  \\\n",
      "0            7.0              0.27         0.36            20.7      0.045   \n",
      "1            6.3              0.30         0.34             1.6      0.049   \n",
      "2            8.1              0.28         0.40             6.9      0.050   \n",
      "3            7.2              0.23         0.32             8.5      0.058   \n",
      "4            7.2              0.23         0.32             8.5      0.058   \n",
      "\n",
      "   free sulfur dioxide  total sulfur dioxide  density    pH  sulphates  \\\n",
      "0                 45.0                 170.0   1.0010  3.00       0.45   \n",
      "1                 14.0                 132.0   0.9940  3.30       0.49   \n",
      "2                 30.0                  97.0   0.9951  3.26       0.44   \n",
      "3                 47.0                 186.0   0.9956  3.19       0.40   \n",
      "4                 47.0                 186.0   0.9956  3.19       0.40   \n",
      "\n",
      "   alcohol  quality  \n",
      "0      8.8        6  \n",
      "1      9.5        6  \n",
      "2     10.1        6  \n",
      "3      9.9        6  \n",
      "4      9.9        6  \n",
      "Columnas vino tinto:\n",
      "Index(['fixed acidity', 'volatile acidity', 'citric acid', 'residual sugar',\n",
      "       'chlorides', 'free sulfur dioxide', 'total sulfur dioxide', 'density',\n",
      "       'pH', 'sulphates', 'alcohol', 'quality'],\n",
      "      dtype='object')\n",
      "Columnas vino blanco:\n",
      "Index(['fixed acidity', 'volatile acidity', 'citric acid', 'residual sugar',\n",
      "       'chlorides', 'free sulfur dioxide', 'total sulfur dioxide', 'density',\n",
      "       'pH', 'sulphates', 'alcohol', 'quality'],\n",
      "      dtype='object')\n"
     ]
    }
   ],
   "source": [
    "red_wine = pd.read_csv(r'C:\\Users\\angel\\OneDrive\\Documentos\\DATA_SCIENCE\\Bootcamp\\ML_WineQuality\\data\\winequality-red.csv', delimiter=';')\n",
    "white_wine = pd.read_csv(r'C:\\Users\\angel\\OneDrive\\Documentos\\DATA_SCIENCE\\Bootcamp\\ML_WineQuality\\data\\winequality-white.csv', delimiter=';')\n",
    "\n",
    "print(\"Vino Tinto (red wine) - Primeras filas:\")\n",
    "print(red_wine.head())\n",
    "print(\"\\nVino Blanco (white wine) - Primeras filas:\")\n",
    "print(white_wine.head())\n",
    "\n",
    "red_wine.columns = red_wine.columns.str.replace('\"', '').str.strip()\n",
    "white_wine.columns = white_wine.columns.str.replace('\"', '').str.strip()\n",
    "\n",
    "print(\"Columnas vino tinto:\")\n",
    "print(red_wine.columns)\n",
    "print(\"Columnas vino blanco:\")\n",
    "print(white_wine.columns)"
   ]
  },
  {
   "cell_type": "code",
   "execution_count": 63,
   "metadata": {},
   "outputs": [],
   "source": [
    "X_red = red_wine.drop('quality', axis=1)\n",
    "y_red = red_wine['quality']\n",
    "X_white = white_wine.drop('quality', axis=1)\n",
    "y_white = white_wine['quality']\n",
    "X_train_red, X_test_red, y_train_red, y_test_red = train_test_split(X_red, y_red, test_size=0.2, random_state=42)\n",
    "X_train_white, X_test_white, y_train_white, y_test_white = train_test_split(X_white, y_white, test_size=0.2, random_state=42)"
   ]
  },
  {
   "cell_type": "code",
   "execution_count": 64,
   "metadata": {},
   "outputs": [],
   "source": [
    "scaler = StandardScaler()\n",
    "X_train_red = scaler.fit_transform(X_train_red)\n",
    "X_test_red = scaler.transform(X_test_red)\n",
    "X_train_white = scaler.fit_transform(X_train_white)\n",
    "X_test_white = scaler.transform(X_test_white)"
   ]
  },
  {
   "cell_type": "code",
   "execution_count": 65,
   "metadata": {},
   "outputs": [
    {
     "name": "stdout",
     "output_type": "stream",
     "text": [
      "Vino Tinto - MSE: 0.3006603124999999\n",
      "Vino Tinto - R2: 0.5399271357910311\n",
      "Vino Blanco - MSE: 0.3482283673469388\n",
      "Vino Blanco - R2: 0.5503674032406387\n"
     ]
    }
   ],
   "source": [
    "model_red = RandomForestRegressor(random_state=42)\n",
    "model_red.fit(X_train_red, y_train_red)\n",
    "y_pred_red = model_red.predict(X_test_red)\n",
    "mse_red = mean_squared_error(y_test_red, y_pred_red)\n",
    "r2_red = r2_score(y_test_red, y_pred_red)\n",
    "\n",
    "print(\"Vino Tinto - MSE:\", mse_red)\n",
    "print(\"Vino Tinto - R2:\", r2_red)\n",
    "\n",
    "model_white = RandomForestRegressor(random_state=42)\n",
    "model_white.fit(X_train_white, y_train_white)\n",
    "y_pred_white = model_white.predict(X_test_white)\n",
    "mse_white = mean_squared_error(y_test_white, y_pred_white)\n",
    "r2_white = r2_score(y_test_white, y_pred_white)\n",
    "\n",
    "print(\"Vino Blanco - MSE:\", mse_white)\n",
    "print(\"Vino Blanco - R2:\", r2_white)"
   ]
  },
  {
   "cell_type": "code",
   "execution_count": 66,
   "metadata": {},
   "outputs": [
    {
     "data": {
      "text/plain": [
       "['C:\\\\Users\\\\angel\\\\OneDrive\\\\Documentos\\\\DATA_SCIENCE\\\\Bootcamp\\\\ML_WineQuality\\\\src\\\\models\\\\model_white_wine.pkl']"
      ]
     },
     "execution_count": 66,
     "metadata": {},
     "output_type": "execute_result"
    }
   ],
   "source": [
    "joblib.dump(model_red, r'C:\\Users\\angel\\OneDrive\\Documentos\\DATA_SCIENCE\\Bootcamp\\ML_WineQuality\\src\\models\\model_red_wine.pkl')\n",
    "joblib.dump(model_white, r'C:\\Users\\angel\\OneDrive\\Documentos\\DATA_SCIENCE\\Bootcamp\\ML_WineQuality\\src\\models\\model_white_wine.pkl')"
   ]
  },
  {
   "cell_type": "code",
   "execution_count": 67,
   "metadata": {},
   "outputs": [
    {
     "name": "stdout",
     "output_type": "stream",
     "text": [
      "{'Vino Tinto': {'MSE': 0.3006603124999999, 'R2': 0.5399271357910311}, 'Vino Blanco': {'MSE': 0.3482283673469388, 'R2': 0.5503674032406387}}\n"
     ]
    }
   ],
   "source": [
    "metrics = {\n",
    "    \"Vino Tinto\": {\n",
    "        \"MSE\": mse_red,\n",
    "        \"R2\": r2_red\n",
    "    },\n",
    "    \"Vino Blanco\": {\n",
    "        \"MSE\": mse_white,\n",
    "        \"R2\": r2_white\n",
    "    }\n",
    "}\n",
    "print(metrics)"
   ]
  },
  {
   "cell_type": "code",
   "execution_count": 68,
   "metadata": {},
   "outputs": [
    {
     "name": "stdout",
     "output_type": "stream",
     "text": [
      "Predicción calidad vino tinto (test): [5.29 5.18 5.48 5.19 5.97 5.08 5.08 4.94 6.13 5.97 6.83 5.22 5.83 5.13\n",
      " 5.47 6.34 5.43 5.76 6.87 5.1  4.98 5.88 5.25 5.85 5.57 5.97 6.3  5.3\n",
      " 5.34 5.94 5.37 5.44 5.85 5.47 5.79 5.16 6.34 6.06 5.41 6.06 5.23 5.22\n",
      " 6.37 5.04 5.57 5.66 6.4  5.56 5.21 5.56 5.04 5.29 5.45 7.06 5.17 5.71\n",
      " 6.02 6.03 5.6  5.07 5.64 6.16 5.56 5.25 6.68 5.39 6.79 5.59 6.71 5.54\n",
      " 6.1  5.26 5.79 5.66 6.07 5.06 6.52 5.16 5.95 6.63 5.17 6.84 5.06 5.79\n",
      " 5.77 6.57 4.99 6.   6.5  5.39 6.32 5.5  4.95 5.13 5.23 5.46 5.12 5.86\n",
      " 4.5  5.53 5.13 5.06 5.8  6.56 5.46 6.72 5.86 5.2  5.23 5.24 6.63 5.03\n",
      " 6.25 5.03 5.15 6.26 5.35 5.26 5.18 5.71 6.12 5.78 5.9  5.36 5.72 5.3\n",
      " 6.3  5.46 5.32 5.69 5.79 5.44 5.06 6.39 5.56 5.06 4.9  5.35 5.11 5.91\n",
      " 6.68 6.18 6.53 5.34 5.52 5.14 5.52 5.65 5.51 5.08 5.85 6.09 5.46 5.17\n",
      " 5.79 5.47 5.58 6.6  5.26 5.89 6.04 5.5  6.28 5.09 5.47 5.75 5.71 5.03\n",
      " 4.81 5.23 5.06 4.94 6.45 5.34 6.23 5.95 6.25 5.08 5.31 5.08 4.59 5.97\n",
      " 5.36 6.28 4.93 6.6  5.86 5.77 6.77 5.34 5.54 5.99 5.09 6.27 5.7  5.02\n",
      " 4.75 5.76 5.33 6.72 5.13 5.43 5.33 5.05 6.64 5.46 5.14 5.12 5.8  6.21\n",
      " 7.37 5.01 5.37 6.63 6.14 5.8  5.85 4.87 5.92 5.68 5.65 6.19 6.17 6.13\n",
      " 5.14 5.07 5.23 6.82 5.39 5.66 5.18 4.85 6.5  5.96 5.1  6.72 5.04 5.77\n",
      " 5.78 5.03 5.32 5.12 5.75 6.73 5.65 6.4  5.64 5.65 6.48 5.01 5.77 5.56\n",
      " 5.46 5.67 5.24 5.31 5.5  5.35 5.77 6.35 6.73 5.56 5.08 6.37 5.78 6.39\n",
      " 5.48 5.23 5.94 6.23 5.01 5.84 5.36 5.75 5.71 5.36 5.59 6.87 6.47 5.94\n",
      " 6.94 5.17 5.43 5.4  5.4  6.56 4.97 6.18 5.44 5.86 5.39 6.94 6.43 5.28\n",
      " 5.15 6.28 5.36 6.75 6.27 6.11 5.03 5.04 6.23 5.43 5.8  5.28 6.01 5.96\n",
      " 5.73 6.91 5.37 5.28 5.57 5.56 5.47 5.87 5.04 5.16 6.22 5.11]\n",
      "Predicción calidad vino blanco (test): [6.82 7.48 6.66 5.16 6.85 6.18 5.24 5.26 5.97 5.07 6.92 5.28 6.94 5.51\n",
      " 7.02 5.1  7.16 5.55 6.8  5.7  5.4  5.98 5.15 6.06 6.31 5.23 5.01 6.02\n",
      " 6.37 5.55 5.09 5.02 5.6  5.81 5.52 6.82 6.33 5.34 5.12 5.75 5.15 6.04\n",
      " 6.18 5.63 4.8  5.86 5.61 5.12 5.15 5.03 5.07 5.94 5.55 6.18 6.24 5.72\n",
      " 5.98 6.12 6.01 6.83 6.08 6.35 5.58 6.87 5.91 6.81 6.14 5.41 5.99 5.96\n",
      " 5.25 5.98 5.12 4.5  5.93 6.15 5.99 6.18 7.34 6.87 5.66 5.57 6.14 6.27\n",
      " 5.36 6.9  5.15 6.66 5.44 5.99 6.88 5.08 5.76 6.6  6.45 6.5  6.05 5.83\n",
      " 5.17 6.24 5.29 6.56 6.87 5.66 5.98 6.15 6.83 6.54 5.55 6.11 6.02 6.46\n",
      " 6.14 5.31 5.28 6.74 6.55 6.32 5.29 8.   5.57 6.55 6.09 5.58 6.85 6.18\n",
      " 6.93 5.82 6.25 5.24 6.35 5.98 5.64 6.47 5.07 6.14 6.09 5.8  6.53 5.32\n",
      " 6.88 6.   6.24 5.48 6.51 5.24 5.06 5.4  5.32 5.31 6.37 5.91 5.85 5.68\n",
      " 6.86 4.69 6.37 5.97 5.87 5.43 5.56 5.35 5.53 5.77 6.76 6.48 5.   6.09\n",
      " 5.46 6.32 5.39 6.03 6.4  5.24 7.28 5.93 5.6  6.1  6.29 5.35 6.47 5.65\n",
      " 5.73 6.08 5.23 6.55 6.16 5.67 6.   5.47 5.74 5.61 6.64 6.22 5.41 5.58\n",
      " 6.91 6.75 5.36 5.65 6.74 4.76 6.26 5.89 5.78 5.93 6.72 6.67 5.8  6.44\n",
      " 5.92 6.6  6.29 7.24 5.07 5.55 6.03 5.56 6.35 6.35 5.03 5.44 5.89 6.08\n",
      " 5.91 5.39 6.17 6.52 6.75 5.35 5.91 5.1  6.26 5.56 5.34 6.88 6.04 5.94\n",
      " 5.76 6.34 6.13 4.88 6.68 5.6  6.53 4.89 4.75 5.1  5.52 5.68 5.8  4.61\n",
      " 5.86 4.92 5.85 5.52 6.13 5.06 6.16 5.77 6.01 5.28 5.52 4.93 6.77 5.96\n",
      " 5.6  5.87 6.66 5.37 5.1  5.95 6.77 7.19 5.7  6.37 5.34 5.92 6.41 5.46\n",
      " 5.84 5.93 6.27 4.67 6.01 7.05 7.51 5.52 5.52 5.48 5.88 5.77 6.12 5.47\n",
      " 7.85 5.48 5.71 6.09 5.55 5.16 5.07 5.1  5.87 5.47 6.43 5.29 5.44 5.89\n",
      " 6.59 4.64 6.11 5.94 5.4  6.01 6.25 7.07 6.03 6.21 4.93 6.95 6.69 6.86\n",
      " 6.34 6.18 5.1  5.23 6.73 5.33 7.34 5.05 6.04 6.27 5.97 6.12 5.25 5.71\n",
      " 6.73 6.52 7.4  5.57 6.25 5.48 5.1  6.15 5.43 5.3  6.42 4.39 7.   6.04\n",
      " 6.7  6.73 5.98 5.89 6.16 4.92 5.67 6.99 6.74 5.16 5.2  5.39 5.71 5.27\n",
      " 5.49 5.56 5.09 5.35 5.58 6.29 5.71 5.85 6.09 6.   6.5  6.   6.01 5.01\n",
      " 6.99 5.29 6.08 6.61 5.7  5.99 6.1  6.58 6.97 5.97 5.31 5.06 5.43 6.22\n",
      " 5.72 5.52 4.94 5.4  4.74 6.5  6.05 5.81 5.34 5.86 5.83 6.43 5.64 6.72\n",
      " 6.31 5.28 6.94 6.97 5.47 5.71 7.55 5.76 5.87 6.34 4.72 6.02 4.77 5.76\n",
      " 6.74 5.83 5.87 6.72 6.55 5.71 5.76 6.37 5.73 6.15 6.9  5.7  6.66 6.\n",
      " 6.7  5.22 7.79 6.15 5.06 5.76 5.97 6.86 6.15 5.06 4.93 6.15 7.26 6.02\n",
      " 4.95 5.95 5.33 5.22 6.16 6.53 6.61 5.85 5.02 6.67 5.03 5.29 5.48 6.34\n",
      " 5.64 5.81 6.18 6.88 5.77 6.01 6.54 5.09 5.09 5.65 6.19 5.05 4.73 5.86\n",
      " 5.14 5.46 6.1  5.87 6.93 4.76 5.91 5.73 4.87 7.   5.98 5.17 5.13 5.79\n",
      " 5.98 5.08 6.16 5.45 5.53 6.82 6.05 5.52 5.71 4.69 6.78 5.73 5.06 6.09\n",
      " 6.02 6.2  6.21 5.55 5.95 6.33 6.51 4.73 5.2  5.8  6.47 5.93 5.35 5.1\n",
      " 6.06 4.73 5.43 5.01 5.42 5.35 6.03 5.02 6.95 6.28 5.24 5.57 7.71 6.01\n",
      " 5.15 5.39 5.95 6.01 6.8  6.98 7.39 6.25 5.41 5.84 6.35 5.61 6.38 5.86\n",
      " 6.46 5.56 6.13 6.74 5.93 6.83 6.88 5.85 7.28 7.   7.23 6.98 5.26 5.9\n",
      " 7.   6.17 6.02 5.39 6.36 5.59 5.01 5.83 6.32 5.35 6.06 6.01 6.56 6.43\n",
      " 6.03 6.67 5.87 5.95 6.49 6.25 5.59 5.46 5.21 5.26 5.82 5.18 6.11 5.72\n",
      " 5.49 7.3  6.99 6.86 5.31 6.88 5.92 6.08 7.68 7.1  5.34 5.22 5.15 6.74\n",
      " 5.82 5.01 5.73 6.83 5.44 5.68 6.   6.74 5.75 6.28 6.03 5.92 5.66 5.77\n",
      " 5.6  7.   5.58 5.42 6.37 6.43 5.34 5.93 5.79 5.45 6.86 4.59 5.   7.\n",
      " 5.28 6.04 6.51 5.57 5.23 5.4  5.99 5.08 5.75 6.9  5.76 6.29 6.25 4.92\n",
      " 5.51 5.22 6.27 5.74 6.74 5.79 6.64 7.   6.51 6.05 7.   6.74 5.86 5.12\n",
      " 5.84 4.88 7.58 6.39 6.46 6.06 6.31 6.23 5.7  5.29 6.14 5.65 6.14 6.63\n",
      " 5.1  5.29 6.61 5.99 5.83 6.88 5.46 6.18 6.14 5.91 6.12 5.82 5.94 6.08\n",
      " 5.87 5.16 5.33 7.67 5.64 5.52 5.03 6.83 6.08 7.58 5.65 6.04 6.41 5.8\n",
      " 5.15 5.73 5.29 6.32 6.17 5.86 6.92 7.11 5.83 5.25 5.09 6.4  6.6  6.22\n",
      " 5.5  5.08 6.01 6.44 5.43 6.96 5.32 5.01 5.19 6.7  6.05 5.87 6.11 6.15\n",
      " 5.9  5.13 5.   5.93 6.73 5.95 5.36 5.51 6.37 6.05 5.31 6.34 6.6  4.86\n",
      " 7.02 6.67 6.72 6.08 6.21 5.32 6.54 6.9  5.65 5.54 6.92 6.88 5.1  4.87\n",
      " 5.68 5.84 4.49 5.8  5.58 6.45 6.01 6.55 6.07 6.87 5.67 6.36 5.62 5.89\n",
      " 5.24 6.45 5.44 5.99 5.53 7.   6.48 5.17 6.83 5.37 6.07 6.8  6.03 5.62\n",
      " 6.76 6.18 6.93 5.22 5.42 6.23 5.11 6.99 5.13 5.77 5.12 5.18 5.23 6.04\n",
      " 5.14 4.85 6.36 6.03 5.53 5.21 7.4  5.58 6.18 5.1  6.03 5.96 5.97 5.95\n",
      " 5.52 6.93 5.93 5.93 6.05 5.67 5.63 6.46 6.09 4.98 6.56 6.34 5.13 5.52\n",
      " 7.46 5.59 5.5  5.39 6.51 5.82 6.19 6.31 6.02 5.64 5.8  5.37 5.28 6.06\n",
      " 6.02 6.34 5.35 5.94 6.17 5.78 6.04 5.86 5.93 6.83 5.34 6.14 6.11 4.58\n",
      " 6.31 6.05 5.71 6.12 5.01 6.26 5.55 5.44 5.52 6.17 5.86 7.56 5.58 5.91\n",
      " 5.89 5.3  5.54 6.77 7.27 5.1  5.07 4.32 6.78 6.11 5.19 6.14 5.54 6.1\n",
      " 6.51 6.86 5.94 6.39 5.86 5.6  5.04 6.13 5.11 6.02 6.36 5.99 5.93 6.16\n",
      " 5.54 5.69 5.13 5.88 5.01 5.17 5.97 5.37 4.96 5.65 5.65 6.75 5.97 6.\n",
      " 5.69 4.89 6.   5.68 6.51 7.   5.46 6.53 5.72 6.8  5.69 5.2  6.55 7.09\n",
      " 6.7  5.93 6.89 5.52 5.36 5.23 6.84 5.49 6.73 5.27 5.36 6.79 5.5  5.53\n",
      " 5.89 5.98 5.17 6.97 7.97 5.46 5.31 5.1  5.21 5.92 6.07 5.57 5.1  5.71\n",
      " 5.83 6.01 6.36 6.68 6.63 6.07 5.18 6.99 7.18 5.32 7.12 5.09 5.32 5.45\n",
      " 5.95 5.7  6.8  4.71 6.21 5.42 5.64 5.81 5.94 6.14 6.03 5.32 5.18 6.1 ]\n"
     ]
    }
   ],
   "source": [
    "model_red = RandomForestRegressor()\n",
    "model_red.fit(X_train_red, y_train_red)\n",
    "model_white = RandomForestRegressor()\n",
    "model_white.fit(X_train_white, y_train_white)\n",
    "\n",
    "prediction_red_test = model_red.predict(X_test_red)\n",
    "prediction_white_test = model_white.predict(X_test_white)\n",
    "print(f\"Predicción calidad vino tinto (test): {prediction_red_test}\")\n",
    "print(f\"Predicción calidad vino blanco (test): {prediction_white_test}\")"
   ]
  }
 ],
 "metadata": {
  "kernelspec": {
   "display_name": "Python 3",
   "language": "python",
   "name": "python3"
  },
  "language_info": {
   "codemirror_mode": {
    "name": "ipython",
    "version": 3
   },
   "file_extension": ".py",
   "mimetype": "text/x-python",
   "name": "python",
   "nbconvert_exporter": "python",
   "pygments_lexer": "ipython3",
   "version": "3.13.0"
  }
 },
 "nbformat": 4,
 "nbformat_minor": 2
}
