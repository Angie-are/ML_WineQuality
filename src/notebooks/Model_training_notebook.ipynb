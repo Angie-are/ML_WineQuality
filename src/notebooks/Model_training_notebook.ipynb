{
 "cells": [
  {
   "cell_type": "markdown",
   "metadata": {},
   "source": [
    "Explicación:\n",
    "\n",
    "Usamos un modelo de regresión con RandomForestRegressor para predecir la calidad del vino.\n",
    "\n",
    "Evaluamos el modelo utilizando MSE (Error cuadrático medio) y R2 (coeficiente de determinación).\n",
    "\n",
    "Ubicación del código:\n",
    "\n",
    "Guarda este código en el notebook Model_training_notebook.ipynb dentro de la carpeta src/notebooks/."
   ]
  },
  {
   "cell_type": "code",
   "execution_count": 47,
   "metadata": {},
   "outputs": [],
   "source": [
    "import pandas as pd\n",
    "from sklearn.model_selection import train_test_split\n",
    "from sklearn.ensemble import RandomForestRegressor\n",
    "from sklearn.metrics import mean_squared_error, r2_score\n",
    "import joblib\n",
    "from sklearn.preprocessing import StandardScaler  # Añadir el escalador"
   ]
  },
  {
   "cell_type": "code",
   "execution_count": 48,
   "metadata": {},
   "outputs": [
    {
     "name": "stdout",
     "output_type": "stream",
     "text": [
      "Vino Tinto (red wine) - Primeras filas:\n",
      "   fixed acidity  volatile acidity  citric acid  residual sugar  chlorides  \\\n",
      "0            7.4              0.70         0.00             1.9      0.076   \n",
      "1            7.8              0.88         0.00             2.6      0.098   \n",
      "2            7.8              0.76         0.04             2.3      0.092   \n",
      "3           11.2              0.28         0.56             1.9      0.075   \n",
      "4            7.4              0.70         0.00             1.9      0.076   \n",
      "\n",
      "   free sulfur dioxide  total sulfur dioxide  density    pH  sulphates  \\\n",
      "0                 11.0                  34.0   0.9978  3.51       0.56   \n",
      "1                 25.0                  67.0   0.9968  3.20       0.68   \n",
      "2                 15.0                  54.0   0.9970  3.26       0.65   \n",
      "3                 17.0                  60.0   0.9980  3.16       0.58   \n",
      "4                 11.0                  34.0   0.9978  3.51       0.56   \n",
      "\n",
      "   alcohol  quality  \n",
      "0      9.4        5  \n",
      "1      9.8        5  \n",
      "2      9.8        5  \n",
      "3      9.8        6  \n",
      "4      9.4        5  \n",
      "\n",
      "Vino Blanco (white wine) - Primeras filas:\n",
      "   fixed acidity  volatile acidity  citric acid  residual sugar  chlorides  \\\n",
      "0            7.0              0.27         0.36            20.7      0.045   \n",
      "1            6.3              0.30         0.34             1.6      0.049   \n",
      "2            8.1              0.28         0.40             6.9      0.050   \n",
      "3            7.2              0.23         0.32             8.5      0.058   \n",
      "4            7.2              0.23         0.32             8.5      0.058   \n",
      "\n",
      "   free sulfur dioxide  total sulfur dioxide  density    pH  sulphates  \\\n",
      "0                 45.0                 170.0   1.0010  3.00       0.45   \n",
      "1                 14.0                 132.0   0.9940  3.30       0.49   \n",
      "2                 30.0                  97.0   0.9951  3.26       0.44   \n",
      "3                 47.0                 186.0   0.9956  3.19       0.40   \n",
      "4                 47.0                 186.0   0.9956  3.19       0.40   \n",
      "\n",
      "   alcohol  quality  \n",
      "0      8.8        6  \n",
      "1      9.5        6  \n",
      "2     10.1        6  \n",
      "3      9.9        6  \n",
      "4      9.9        6  \n",
      "Columnas vino tinto:\n",
      "Index(['fixed acidity', 'volatile acidity', 'citric acid', 'residual sugar',\n",
      "       'chlorides', 'free sulfur dioxide', 'total sulfur dioxide', 'density',\n",
      "       'pH', 'sulphates', 'alcohol', 'quality'],\n",
      "      dtype='object')\n",
      "Columnas vino blanco:\n",
      "Index(['fixed acidity', 'volatile acidity', 'citric acid', 'residual sugar',\n",
      "       'chlorides', 'free sulfur dioxide', 'total sulfur dioxide', 'density',\n",
      "       'pH', 'sulphates', 'alcohol', 'quality'],\n",
      "      dtype='object')\n"
     ]
    }
   ],
   "source": [
    "# Cargar los datasets de vino tinto y vino blanco con la ruta completa, usando delimitador ';'\n",
    "red_wine = pd.read_csv(r'C:\\Users\\angel\\OneDrive\\Documentos\\DATA_SCIENCE\\Bootcamp\\ML_WineQuality\\data\\winequality-red.csv', delimiter=';')\n",
    "white_wine = pd.read_csv(r'C:\\Users\\angel\\OneDrive\\Documentos\\DATA_SCIENCE\\Bootcamp\\ML_WineQuality\\data\\winequality-white.csv', delimiter=';')\n",
    "\n",
    "# Verificar las primeras filas de cada DataFrame para confirmar que se cargaron correctamente\n",
    "print(\"Vino Tinto (red wine) - Primeras filas:\")\n",
    "print(red_wine.head())\n",
    "print(\"\\nVino Blanco (white wine) - Primeras filas:\")\n",
    "print(white_wine.head())\n",
    "\n",
    "# Limpiar los nombres de las columnas (eliminar comillas y espacios extras si es necesario)\n",
    "red_wine.columns = red_wine.columns.str.replace('\"', '').str.strip()\n",
    "white_wine.columns = white_wine.columns.str.replace('\"', '').str.strip()\n",
    "\n",
    "# Verificar las columnas\n",
    "print(\"Columnas vino tinto:\")\n",
    "print(red_wine.columns)\n",
    "print(\"Columnas vino blanco:\")\n",
    "print(white_wine.columns)"
   ]
  },
  {
   "cell_type": "code",
   "execution_count": 49,
   "metadata": {},
   "outputs": [],
   "source": [
    "# Separar las características (X) y la etiqueta (y) para vino tinto\n",
    "X_red = red_wine.drop('quality', axis=1)  # Eliminar la columna 'quality' para obtener las características\n",
    "y_red = red_wine['quality']  # La columna 'quality' es la etiqueta\n",
    "\n",
    "# Separar las características (X) y la etiqueta (y) para vino blanco\n",
    "X_white = white_wine.drop('quality', axis=1)  # Eliminar la columna 'quality' para obtener las características\n",
    "y_white = white_wine['quality']  # La columna 'quality' es la etiqueta\n",
    "\n",
    "# Dividir los datos en entrenamiento y prueba (80% entrenamiento, 20% prueba) para vino tinto\n",
    "X_train_red, X_test_red, y_train_red, y_test_red = train_test_split(X_red, y_red, test_size=0.2, random_state=42)\n",
    "\n",
    "# Dividir los datos en entrenamiento y prueba (80% entrenamiento, 20% prueba) para vino blanco\n",
    "X_train_white, X_test_white, y_train_white, y_test_white = train_test_split(X_white, y_white, test_size=0.2, random_state=42)\n"
   ]
  },
  {
   "cell_type": "code",
   "execution_count": 50,
   "metadata": {},
   "outputs": [],
   "source": [
    "# Escalar las características\n",
    "scaler = StandardScaler()\n",
    "\n",
    "# Aplicar la normalización a los conjuntos de entrenamiento y prueba de vino tinto\n",
    "X_train_red = scaler.fit_transform(X_train_red)\n",
    "X_test_red = scaler.transform(X_test_red)\n",
    "\n",
    "# Aplicar la normalización a los conjuntos de entrenamiento y prueba de vino blanco\n",
    "X_train_white = scaler.fit_transform(X_train_white)\n",
    "X_test_white = scaler.transform(X_test_white)\n"
   ]
  },
  {
   "cell_type": "code",
   "execution_count": 51,
   "metadata": {},
   "outputs": [
    {
     "name": "stdout",
     "output_type": "stream",
     "text": [
      "Vino Tinto - MSE: 0.3006603124999999\n",
      "Vino Tinto - R2: 0.5399271357910311\n",
      "Vino Blanco - MSE: 0.3482283673469388\n",
      "Vino Blanco - R2: 0.5503674032406387\n"
     ]
    }
   ],
   "source": [
    "# Modelo para vino tinto\n",
    "model_red = RandomForestRegressor(random_state=42)\n",
    "model_red.fit(X_train_red, y_train_red)\n",
    "\n",
    "# Hacer predicciones para el vino tinto\n",
    "y_pred_red = model_red.predict(X_test_red)\n",
    "\n",
    "# Evaluar el modelo para el vino tinto\n",
    "mse_red = mean_squared_error(y_test_red, y_pred_red)\n",
    "r2_red = r2_score(y_test_red, y_pred_red)\n",
    "\n",
    "print(\"Vino Tinto - MSE:\", mse_red)\n",
    "print(\"Vino Tinto - R2:\", r2_red)\n",
    "\n",
    "# Modelo para vino blanco\n",
    "model_white = RandomForestRegressor(random_state=42)\n",
    "model_white.fit(X_train_white, y_train_white)\n",
    "\n",
    "# Hacer predicciones para el vino blanco\n",
    "y_pred_white = model_white.predict(X_test_white)\n",
    "\n",
    "# Evaluar el modelo para el vino blanco\n",
    "mse_white = mean_squared_error(y_test_white, y_pred_white)\n",
    "r2_white = r2_score(y_test_white, y_pred_white)\n",
    "\n",
    "print(\"Vino Blanco - MSE:\", mse_white)\n",
    "print(\"Vino Blanco - R2:\", r2_white)\n"
   ]
  },
  {
   "cell_type": "code",
   "execution_count": 52,
   "metadata": {},
   "outputs": [
    {
     "data": {
      "text/plain": [
       "['C:\\\\Users\\\\angel\\\\OneDrive\\\\Documentos\\\\DATA_SCIENCE\\\\Bootcamp\\\\ML_WineQuality\\\\src\\\\models\\\\model_white_wine.pkl']"
      ]
     },
     "execution_count": 52,
     "metadata": {},
     "output_type": "execute_result"
    }
   ],
   "source": [
    "# Guardar los modelos entrenados\n",
    "joblib.dump(model_red, r'C:\\Users\\angel\\OneDrive\\Documentos\\DATA_SCIENCE\\Bootcamp\\ML_WineQuality\\src\\models\\model_red_wine.pkl')\n",
    "joblib.dump(model_white, r'C:\\Users\\angel\\OneDrive\\Documentos\\DATA_SCIENCE\\Bootcamp\\ML_WineQuality\\src\\models\\model_white_wine.pkl')\n"
   ]
  },
  {
   "cell_type": "code",
   "execution_count": 53,
   "metadata": {},
   "outputs": [
    {
     "name": "stdout",
     "output_type": "stream",
     "text": [
      "{'Vino Tinto': {'MSE': 0.3006603124999999, 'R2': 0.5399271357910311}, 'Vino Blanco': {'MSE': 0.3482283673469388, 'R2': 0.5503674032406387}}\n"
     ]
    }
   ],
   "source": [
    "# Guardar las métricas de evaluación\n",
    "metrics = {\n",
    "    \"Vino Tinto\": {\n",
    "        \"MSE\": mse_red,\n",
    "        \"R2\": r2_red\n",
    "    },\n",
    "    \"Vino Blanco\": {\n",
    "        \"MSE\": mse_white,\n",
    "        \"R2\": r2_white\n",
    "    }\n",
    "}\n",
    "\n",
    "# Mostrar las métricas\n",
    "print(metrics)\n"
   ]
  },
  {
   "cell_type": "code",
   "execution_count": 54,
   "metadata": {},
   "outputs": [
    {
     "name": "stdout",
     "output_type": "stream",
     "text": [
      "Predicción calidad vino tinto (test): [5.27 5.16 5.39 5.2  5.98 5.1  5.03 4.96 6.1  5.88 6.77 5.38 5.68 5.24\n",
      " 5.51 6.36 5.34 5.76 6.88 5.09 4.92 5.89 5.24 5.87 5.46 5.98 6.39 5.26\n",
      " 5.36 5.92 5.3  5.39 5.81 5.49 5.82 5.06 6.33 5.95 5.44 6.05 5.15 5.24\n",
      " 6.26 5.03 5.55 5.68 6.51 5.65 5.17 5.68 5.08 5.22 5.52 6.93 5.17 5.57\n",
      " 5.96 6.01 5.52 5.01 5.56 6.23 5.51 5.31 6.7  5.18 6.71 5.53 6.7  5.47\n",
      " 6.02 5.21 5.81 5.45 6.05 5.02 6.49 5.11 6.02 6.54 5.08 6.93 5.18 5.72\n",
      " 5.8  6.56 5.08 6.   6.53 5.46 6.48 5.52 4.91 5.14 5.32 5.39 5.15 6.04\n",
      " 4.5  5.45 5.01 5.07 5.85 6.57 5.52 6.68 5.83 5.29 5.25 5.15 6.5  5.06\n",
      " 6.42 5.   5.17 6.15 5.41 5.16 5.09 5.57 6.18 5.73 5.85 5.44 5.63 5.18\n",
      " 6.46 5.39 5.21 5.49 5.81 5.46 4.98 6.39 5.68 5.05 5.03 5.3  5.18 5.86\n",
      " 6.64 6.3  6.59 5.34 5.52 5.09 5.65 5.58 5.42 5.03 5.81 6.2  5.5  5.21\n",
      " 5.81 5.5  5.61 6.36 5.18 5.96 6.04 5.66 6.36 5.09 5.33 5.78 5.47 5.1\n",
      " 4.53 5.23 5.12 4.95 6.35 5.37 6.27 5.92 6.18 5.1  5.34 5.14 4.42 5.87\n",
      " 5.5  6.3  5.07 6.41 5.65 5.78 6.76 5.37 5.63 6.09 5.1  6.35 5.77 4.99\n",
      " 4.57 5.79 5.26 6.68 5.13 5.41 5.17 5.04 6.68 5.38 5.13 4.93 5.72 6.07\n",
      " 7.35 4.97 5.33 6.62 5.96 5.84 5.73 4.94 5.96 5.65 5.64 6.04 6.17 6.13\n",
      " 4.89 4.97 5.28 6.94 5.27 5.57 5.37 4.8  6.54 5.93 5.2  6.68 5.04 5.8\n",
      " 5.84 5.09 5.26 5.03 5.72 6.74 5.65 6.66 5.7  5.53 6.53 5.03 5.88 5.43\n",
      " 5.45 5.57 4.97 5.29 5.45 5.3  5.62 6.26 6.54 5.68 5.1  6.38 5.82 6.42\n",
      " 5.53 5.25 5.95 6.2  5.04 5.83 5.37 5.66 5.7  5.3  5.73 6.78 6.6  5.92\n",
      " 6.95 5.13 5.44 5.4  5.57 6.62 5.   6.3  5.46 5.84 5.45 6.87 6.43 5.21\n",
      " 5.12 6.32 5.29 6.73 6.32 6.19 4.94 5.02 6.33 5.35 5.81 5.26 6.01 5.84\n",
      " 5.79 6.96 5.38 5.36 5.55 5.68 5.49 5.92 5.09 5.13 6.31 5.1 ]\n",
      "Predicción calidad vino blanco (test): [6.9  7.53 6.57 5.17 6.82 6.21 5.3  5.18 5.87 5.15 6.79 5.18 6.85 5.61\n",
      " 7.12 5.1  7.26 5.62 6.77 5.69 5.26 6.   5.11 6.13 6.17 5.24 5.02 6.09\n",
      " 6.53 5.43 5.1  5.07 5.6  5.77 5.52 6.77 6.15 5.45 5.13 5.76 5.25 6.\n",
      " 6.04 5.79 4.71 5.84 5.72 5.12 5.18 5.02 4.89 5.97 5.53 6.14 6.27 5.5\n",
      " 5.84 6.16 5.83 6.8  6.08 6.1  5.63 6.91 5.83 6.78 6.12 5.63 6.03 5.94\n",
      " 5.3  5.99 5.2  4.53 5.97 6.13 5.91 6.15 7.19 6.81 5.63 5.57 5.99 6.18\n",
      " 5.61 6.96 5.07 6.34 5.33 6.15 6.87 5.17 5.67 6.49 6.56 6.59 5.93 5.81\n",
      " 5.12 6.14 5.27 6.45 6.71 5.72 6.   6.24 6.8  6.51 5.62 6.09 6.09 6.57\n",
      " 6.21 5.39 5.19 6.76 6.67 6.23 5.21 8.   5.59 6.55 6.29 5.61 6.84 6.08\n",
      " 6.84 5.72 6.35 5.2  6.25 6.13 5.74 6.4  5.06 6.1  6.06 5.79 6.67 5.31\n",
      " 6.64 6.   6.27 5.44 6.55 5.19 5.03 5.5  5.35 5.36 6.26 5.97 5.74 5.64\n",
      " 6.9  4.65 6.47 5.85 6.02 5.6  5.66 5.34 5.49 5.75 6.82 6.55 5.06 6.14\n",
      " 5.31 6.51 5.29 6.06 6.3  5.2  7.22 5.87 5.65 6.2  6.27 5.47 6.49 5.79\n",
      " 5.84 6.12 5.32 6.61 6.21 5.45 6.01 5.4  5.75 5.6  6.68 6.28 5.47 5.46\n",
      " 6.97 6.65 5.31 5.63 6.63 4.75 6.29 5.86 5.39 5.82 6.67 6.71 5.79 6.29\n",
      " 5.83 6.69 6.15 7.14 4.96 5.44 6.02 5.57 6.1  6.33 5.03 5.46 5.87 6.16\n",
      " 6.15 5.21 6.1  6.44 6.76 5.49 5.97 5.07 6.4  5.54 5.25 6.88 6.12 5.95\n",
      " 5.69 6.27 5.93 4.82 6.61 5.57 6.59 4.95 4.82 5.1  5.69 5.74 5.71 4.48\n",
      " 5.95 4.99 5.82 5.46 6.19 5.02 6.07 5.94 5.9  5.46 5.48 5.   6.73 6.\n",
      " 5.78 5.82 6.41 5.45 5.16 5.74 6.6  7.14 5.68 6.3  5.47 6.   6.63 5.59\n",
      " 5.8  5.97 6.26 4.83 6.04 7.01 7.38 5.4  5.52 5.42 5.87 5.78 6.21 5.37\n",
      " 7.71 5.57 5.71 6.02 5.36 5.17 4.89 5.13 5.86 5.36 6.55 5.24 5.38 5.89\n",
      " 6.43 4.63 6.03 6.02 5.36 6.   6.16 7.38 5.98 6.21 5.01 6.79 6.54 6.93\n",
      " 6.33 6.36 5.2  5.1  6.79 5.36 7.42 5.14 5.99 6.26 6.01 5.93 5.37 5.58\n",
      " 6.77 6.61 7.35 5.52 6.09 5.44 5.19 6.18 5.5  5.37 6.26 4.45 6.98 6.2\n",
      " 6.78 6.77 6.   5.84 6.28 4.99 5.63 6.93 6.74 5.1  5.23 5.35 5.67 5.24\n",
      " 5.51 5.47 5.1  5.54 5.58 6.4  5.85 5.88 6.03 5.94 6.33 6.01 5.96 5.05\n",
      " 7.   5.42 6.04 6.5  5.71 5.91 5.84 6.31 7.01 5.92 5.34 5.11 5.51 6.26\n",
      " 5.72 5.64 4.94 5.4  4.81 6.45 6.09 5.72 5.26 5.88 5.83 6.42 5.8  6.66\n",
      " 6.27 5.18 6.93 6.94 5.37 5.58 7.58 5.9  5.81 6.4  4.83 6.05 4.94 5.7\n",
      " 6.68 5.91 5.9  6.71 6.49 5.85 5.71 6.1  5.71 6.21 6.82 5.73 6.58 6.18\n",
      " 6.76 5.24 7.79 6.12 5.07 6.14 5.98 6.81 6.13 5.06 4.97 6.24 7.26 5.92\n",
      " 4.89 6.   5.38 5.21 6.19 6.39 6.51 5.78 5.02 6.57 4.91 5.29 5.54 6.35\n",
      " 5.61 5.74 6.08 6.96 5.76 6.07 6.69 5.11 5.17 5.78 6.11 5.06 4.71 5.88\n",
      " 5.16 5.5  6.04 5.98 6.9  4.79 5.95 5.45 4.95 7.07 6.   5.13 5.26 5.62\n",
      " 5.8  5.09 6.05 5.48 5.47 6.85 5.96 5.46 5.72 4.78 6.84 5.79 5.02 6.14\n",
      " 5.96 6.26 6.31 5.67 5.97 6.34 6.46 4.74 5.19 5.74 6.53 5.96 5.41 5.18\n",
      " 6.03 4.72 5.39 5.1  5.37 5.44 6.06 5.07 6.96 6.12 5.29 5.66 7.65 6.\n",
      " 5.07 5.53 5.94 6.05 6.69 6.96 7.49 6.21 5.38 5.72 6.28 5.57 6.42 5.78\n",
      " 6.54 5.5  6.04 6.69 5.98 6.88 6.78 5.87 7.22 7.   7.2  6.91 5.33 5.9\n",
      " 7.01 6.24 5.99 5.39 6.29 5.6  5.01 5.89 6.35 5.31 6.05 5.95 6.42 6.44\n",
      " 6.   6.54 5.97 5.97 6.43 6.2  5.67 5.4  5.23 5.14 5.77 5.08 6.07 5.59\n",
      " 5.49 7.24 7.   6.76 5.34 6.86 5.93 6.14 7.71 7.11 5.29 5.13 5.18 6.64\n",
      " 5.99 5.01 5.64 6.97 5.5  5.67 5.94 6.8  5.72 6.37 5.95 5.9  5.72 5.9\n",
      " 5.5  7.   5.75 5.45 6.53 6.34 5.48 5.89 5.91 5.42 6.93 4.62 5.   7.05\n",
      " 5.26 6.   6.65 5.61 5.24 5.48 6.07 5.11 5.64 6.71 5.8  6.38 6.18 5.06\n",
      " 5.4  5.13 6.18 5.53 6.71 5.67 6.65 6.95 6.58 6.07 7.   6.69 5.84 5.19\n",
      " 5.93 4.92 7.43 6.38 6.6  6.13 6.33 6.15 5.78 5.18 6.13 5.58 6.05 6.54\n",
      " 5.05 5.35 6.81 6.21 5.85 6.86 5.36 6.31 6.07 5.84 6.17 5.84 5.98 6.01\n",
      " 5.75 5.31 5.42 7.6  5.63 5.36 5.02 6.86 5.94 7.43 5.74 5.99 6.33 5.87\n",
      " 5.14 5.85 5.31 6.34 6.09 5.88 6.9  7.13 5.81 5.35 5.04 6.4  6.69 6.18\n",
      " 5.49 5.16 6.02 6.34 5.38 6.85 5.29 5.12 5.08 6.62 5.87 5.87 6.16 6.15\n",
      " 6.   5.16 5.06 5.82 6.64 5.93 5.19 5.43 6.38 6.   5.18 6.3  6.52 5.09\n",
      " 7.01 6.58 6.84 6.23 6.1  5.34 6.5  6.94 5.68 5.45 6.85 6.97 5.16 4.9\n",
      " 5.64 5.77 4.29 5.94 5.76 6.56 6.05 6.5  5.92 6.77 5.61 6.36 5.63 5.86\n",
      " 5.25 6.44 5.49 6.03 5.65 7.01 6.5  5.2  6.74 5.49 6.07 6.89 6.17 5.71\n",
      " 6.77 6.04 6.86 5.24 5.46 6.24 5.14 6.84 5.1  5.65 5.08 5.22 5.23 6.04\n",
      " 5.   5.12 6.35 6.13 5.5  5.17 7.49 5.66 6.26 5.1  5.91 5.82 5.98 6.04\n",
      " 5.43 6.64 5.87 5.81 6.09 5.45 5.52 6.54 6.16 4.99 6.5  6.33 5.15 5.43\n",
      " 7.57 5.55 5.38 5.43 6.55 5.9  6.06 6.27 6.01 5.74 5.67 5.37 5.44 6.14\n",
      " 5.86 6.32 5.54 5.89 6.37 5.74 6.05 5.92 5.79 6.88 5.31 6.22 6.07 4.75\n",
      " 6.37 5.99 5.72 6.18 5.03 6.32 5.64 5.49 5.57 6.18 5.69 7.63 5.63 6.04\n",
      " 5.89 5.36 5.5  6.79 7.21 5.1  5.12 4.22 6.81 6.29 5.16 6.27 5.44 5.97\n",
      " 6.66 6.85 5.99 6.44 5.77 5.56 5.08 5.95 5.17 6.08 6.47 6.1  5.96 6.24\n",
      " 5.52 5.66 5.21 5.92 5.   5.2  6.02 5.35 4.89 5.63 5.79 6.74 5.86 6.01\n",
      " 5.65 4.92 6.06 5.75 6.44 7.   5.64 6.48 5.83 6.67 5.59 5.25 6.56 7.29\n",
      " 6.61 6.04 6.92 5.59 5.31 5.14 6.92 5.38 6.6  5.33 5.4  6.69 5.41 5.65\n",
      " 5.89 5.86 5.25 6.94 7.99 5.49 5.36 5.06 5.1  5.94 5.93 5.46 5.08 5.54\n",
      " 5.81 6.2  6.28 6.78 6.67 6.24 5.15 7.   7.05 5.36 7.04 5.03 5.24 5.51\n",
      " 6.03 5.71 6.66 4.49 6.18 5.32 5.66 5.73 5.89 6.22 6.09 5.36 5.28 5.92]\n"
     ]
    }
   ],
   "source": [
    "# Entrenamiento del modelo para vino tinto\n",
    "model_red = RandomForestRegressor()\n",
    "model_red.fit(X_train_red, y_train_red)\n",
    "\n",
    "# Entrenamiento del modelo para vino blanco\n",
    "model_white = RandomForestRegressor()\n",
    "model_white.fit(X_train_white, y_train_white)\n",
    "\n",
    "# Predicción para vino tinto\n",
    "prediction_red_test = model_red.predict(X_test_red)\n",
    "\n",
    "# Predicción para vino blanco\n",
    "prediction_white_test = model_white.predict(X_test_white)\n",
    "\n",
    "# Imprimir las predicciones\n",
    "print(f\"Predicción calidad vino tinto (test): {prediction_red_test}\")\n",
    "print(f\"Predicción calidad vino blanco (test): {prediction_white_test}\")\n",
    "\n"
   ]
  }
 ],
 "metadata": {
  "kernelspec": {
   "display_name": "Python 3",
   "language": "python",
   "name": "python3"
  },
  "language_info": {
   "codemirror_mode": {
    "name": "ipython",
    "version": 3
   },
   "file_extension": ".py",
   "mimetype": "text/x-python",
   "name": "python",
   "nbconvert_exporter": "python",
   "pygments_lexer": "ipython3",
   "version": "3.13.0"
  }
 },
 "nbformat": 4,
 "nbformat_minor": 2
}
