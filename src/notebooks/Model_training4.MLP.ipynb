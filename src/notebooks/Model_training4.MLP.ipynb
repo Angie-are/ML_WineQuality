{
 "cells": [
  {
   "cell_type": "code",
   "execution_count": 13,
   "metadata": {},
   "outputs": [],
   "source": [
    "import pandas as pd\n",
    "from sklearn.model_selection import train_test_split\n",
    "from sklearn.neural_network import MLPRegressor\n",
    "from sklearn.preprocessing import StandardScaler\n",
    "from sklearn.metrics import mean_squared_error\n",
    "import joblib\n",
    "import os"
   ]
  },
  {
   "cell_type": "code",
   "execution_count": 14,
   "metadata": {},
   "outputs": [],
   "source": [
    "# Cargar los datos de vino tinto y vino blanco usando la ruta absoluta\n",
    "red_wine = pd.read_csv(r'C:\\Users\\angel\\OneDrive\\Documentos\\DATA_SCIENCE\\Bootcamp\\ML_WineQuality\\data\\winequality-red.csv', delimiter=';')\n",
    "white_wine = pd.read_csv(r'C:\\Users\\angel\\OneDrive\\Documentos\\DATA_SCIENCE\\Bootcamp\\ML_WineQuality\\data\\winequality-white.csv', delimiter=';')"
   ]
  },
  {
   "cell_type": "code",
   "execution_count": 11,
   "metadata": {},
   "outputs": [
    {
     "name": "stdout",
     "output_type": "stream",
     "text": [
      "MSE para MLP vino tinto: 0.39139275832082865\n",
      "MSE para MLP vino blanco: 0.47524883175802324\n"
     ]
    }
   ],
   "source": [
    "# Separar las características (X) y la etiqueta (y) de vino tinto y vino blanco\n",
    "X_red = red_wine.drop('quality', axis=1)\n",
    "y_red = red_wine['quality']\n",
    "\n",
    "X_white = white_wine.drop('quality', axis=1)\n",
    "y_white = white_wine['quality']\n",
    "\n",
    "# Dividir los datos en entrenamiento y prueba\n",
    "X_train_red, X_test_red, y_train_red, y_test_red = train_test_split(X_red, y_red, test_size=0.2, random_state=42)\n",
    "X_train_white, X_test_white, y_train_white, y_test_white = train_test_split(X_white, y_white, test_size=0.2, random_state=42)\n",
    "\n",
    "# Escalar los datos\n",
    "scaler = StandardScaler()\n",
    "\n",
    "X_train_red_scaled = scaler.fit_transform(X_train_red)\n",
    "X_test_red_scaled = scaler.transform(X_test_red)\n",
    "\n",
    "X_train_white_scaled = scaler.fit_transform(X_train_white)\n",
    "X_test_white_scaled = scaler.transform(X_test_white)\n",
    "\n",
    "# Crear y entrenar el modelo MLP (Multi-Layer Perceptron) para vino tinto\n",
    "mlp_red = MLPRegressor(hidden_layer_sizes=(100,), max_iter=1000, random_state=42)\n",
    "mlp_red.fit(X_train_red_scaled, y_train_red)\n",
    "\n",
    "# Crear y entrenar el modelo MLP para vino blanco\n",
    "mlp_white = MLPRegressor(hidden_layer_sizes=(100,), max_iter=1000, random_state=42)\n",
    "mlp_white.fit(X_train_white_scaled, y_train_white)\n",
    "\n",
    "# Hacer predicciones para ambos conjuntos de prueba\n",
    "y_pred_mlp_red = mlp_red.predict(X_test_red_scaled)\n",
    "y_pred_mlp_white = mlp_white.predict(X_test_white_scaled)\n",
    "\n",
    "# Evaluar el modelo usando el MSE\n",
    "mse_mlp_red = mean_squared_error(y_test_red, y_pred_mlp_red)\n",
    "mse_mlp_white = mean_squared_error(y_test_white, y_pred_mlp_white)\n",
    "\n",
    "print(f'MSE para MLP vino tinto: {mse_mlp_red}')\n",
    "print(f'MSE para MLP vino blanco: {mse_mlp_white}')\n"
   ]
  },
  {
   "cell_type": "code",
   "execution_count": null,
   "metadata": {},
   "outputs": [],
   "source": []
  },
  {
   "cell_type": "code",
   "execution_count": 15,
   "metadata": {},
   "outputs": [
    {
     "name": "stdout",
     "output_type": "stream",
     "text": [
      "Modelos y escalador guardados con éxito.\n"
     ]
    }
   ],
   "source": [
    "# Crear las carpetas si no existen\n",
    "os.makedirs('src/models', exist_ok=True)\n",
    "\n",
    "# Guardar los modelos entrenados\n",
    "joblib.dump(mlp_red, 'src/models/mlp_red_wine_model.pkl')\n",
    "joblib.dump(mlp_white, 'src/models/mlp_white_wine_model.pkl')\n",
    "\n",
    "# También puedes guardar el escalador si lo necesitas para escalar futuros datos de prueba\n",
    "joblib.dump(scaler, 'src/models/scaler.pkl')\n",
    "\n",
    "print(\"Modelos y escalador guardados con éxito.\")"
   ]
  }
 ],
 "metadata": {
  "kernelspec": {
   "display_name": "Python 3",
   "language": "python",
   "name": "python3"
  },
  "language_info": {
   "codemirror_mode": {
    "name": "ipython",
    "version": 3
   },
   "file_extension": ".py",
   "mimetype": "text/x-python",
   "name": "python",
   "nbconvert_exporter": "python",
   "pygments_lexer": "ipython3",
   "version": "3.13.0"
  }
 },
 "nbformat": 4,
 "nbformat_minor": 2
}
