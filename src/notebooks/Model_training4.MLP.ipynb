{
 "cells": [
  {
   "cell_type": "code",
   "execution_count": 17,
   "metadata": {},
   "outputs": [],
   "source": [
    "import pandas as pd\n",
    "from sklearn.model_selection import train_test_split\n",
    "from sklearn.neural_network import MLPRegressor\n",
    "from sklearn.preprocessing import StandardScaler\n",
    "from sklearn.metrics import mean_squared_error\n",
    "import joblib\n",
    "import os"
   ]
  },
  {
   "cell_type": "code",
   "execution_count": 18,
   "metadata": {},
   "outputs": [],
   "source": [
    "red_wine = pd.read_csv(r'C:\\Users\\angel\\OneDrive\\Documentos\\DATA_SCIENCE\\Bootcamp\\ML_WineQuality\\data\\winequality-red.csv', delimiter=';')\n",
    "white_wine = pd.read_csv(r'C:\\Users\\angel\\OneDrive\\Documentos\\DATA_SCIENCE\\Bootcamp\\ML_WineQuality\\data\\winequality-white.csv', delimiter=';')"
   ]
  },
  {
   "cell_type": "code",
   "execution_count": 19,
   "metadata": {},
   "outputs": [
    {
     "name": "stdout",
     "output_type": "stream",
     "text": [
      "MSE para MLP vino tinto: 0.39139275832082865\n",
      "MSE para MLP vino blanco: 0.47524883175802324\n"
     ]
    }
   ],
   "source": [
    "X_red = red_wine.drop('quality', axis=1)\n",
    "y_red = red_wine['quality']\n",
    "X_white = white_wine.drop('quality', axis=1)\n",
    "y_white = white_wine['quality']\n",
    "\n",
    "X_train_red, X_test_red, y_train_red, y_test_red = train_test_split(X_red, y_red, test_size=0.2, random_state=42)\n",
    "X_train_white, X_test_white, y_train_white, y_test_white = train_test_split(X_white, y_white, test_size=0.2, random_state=42)\n",
    "\n",
    "scaler = StandardScaler()\n",
    "X_train_red_scaled = scaler.fit_transform(X_train_red)\n",
    "X_test_red_scaled = scaler.transform(X_test_red)\n",
    "X_train_white_scaled = scaler.fit_transform(X_train_white)\n",
    "X_test_white_scaled = scaler.transform(X_test_white)\n",
    "\n",
    "mlp_red = MLPRegressor(hidden_layer_sizes=(100,), max_iter=1000, random_state=42)\n",
    "mlp_red.fit(X_train_red_scaled, y_train_red)\n",
    "mlp_white = MLPRegressor(hidden_layer_sizes=(100,), max_iter=1000, random_state=42)\n",
    "mlp_white.fit(X_train_white_scaled, y_train_white)\n",
    "\n",
    "y_pred_mlp_red = mlp_red.predict(X_test_red_scaled)\n",
    "y_pred_mlp_white = mlp_white.predict(X_test_white_scaled)\n",
    "mse_mlp_red = mean_squared_error(y_test_red, y_pred_mlp_red)\n",
    "mse_mlp_white = mean_squared_error(y_test_white, y_pred_mlp_white)\n",
    "\n",
    "print(f'MSE para MLP vino tinto: {mse_mlp_red}')\n",
    "print(f'MSE para MLP vino blanco: {mse_mlp_white}')\n"
   ]
  },
  {
   "cell_type": "code",
   "execution_count": 21,
   "metadata": {},
   "outputs": [
    {
     "name": "stdout",
     "output_type": "stream",
     "text": [
      "Modelos y escalador guardados con éxito.\n"
     ]
    }
   ],
   "source": [
    "os.makedirs('src/models', exist_ok=True)\n",
    "joblib.dump(mlp_red, 'src/models/mlp_red_wine_model.pkl')\n",
    "joblib.dump(mlp_white, 'src/models/mlp_white_wine_model.pkl')\n",
    "joblib.dump(scaler, 'src/models/scaler.pkl')\n",
    "\n",
    "print(\"Modelos y escalador guardados con éxito.\")"
   ]
  }
 ],
 "metadata": {
  "kernelspec": {
   "display_name": "Python 3",
   "language": "python",
   "name": "python3"
  },
  "language_info": {
   "codemirror_mode": {
    "name": "ipython",
    "version": 3
   },
   "file_extension": ".py",
   "mimetype": "text/x-python",
   "name": "python",
   "nbconvert_exporter": "python",
   "pygments_lexer": "ipython3",
   "version": "3.13.0"
  }
 },
 "nbformat": 4,
 "nbformat_minor": 2
}
