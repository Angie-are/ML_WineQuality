{
 "cells": [
  {
   "cell_type": "code",
   "execution_count": 2,
   "metadata": {},
   "outputs": [],
   "source": [
    "# Importar librerías necesarias\n",
    "from sklearn.model_selection import train_test_split\n",
    "from sklearn.preprocessing import StandardScaler\n",
    "from sklearn.pipeline import Pipeline\n",
    "from sklearn.impute import SimpleImputer\n",
    "import pandas as pd\n",
    "import sys\n",
    "sys.path.append('C:/Users/angel/OneDrive/Documentos/DATA_SCIENCE/Bootcamp/ML_WineQuality')\n",
    "from src.utils.preprocessing import load_data, check_missing_values, split_data, train_test_split_data, create_pipeline, preprocess_data\n"
   ]
  },
  {
   "cell_type": "code",
   "execution_count": 3,
   "metadata": {},
   "outputs": [],
   "source": [
    "red_wine = pd.read_csv(r'C:\\Users\\angel\\OneDrive\\Documentos\\DATA_SCIENCE\\Bootcamp\\ML_WineQuality\\data\\winequality-red.csv', delimiter=';')\n",
    "white_wine = pd.read_csv(r'C:\\Users\\angel\\OneDrive\\Documentos\\DATA_SCIENCE\\Bootcamp\\ML_WineQuality\\data\\winequality-white.csv', delimiter=';')"
   ]
  },
  {
   "cell_type": "code",
   "execution_count": 4,
   "metadata": {},
   "outputs": [
    {
     "name": "stdout",
     "output_type": "stream",
     "text": [
      "\n",
      "Valores nulos en el dataset de vino tinto:\n",
      "fixed acidity           0\n",
      "volatile acidity        0\n",
      "citric acid             0\n",
      "residual sugar          0\n",
      "chlorides               0\n",
      "free sulfur dioxide     0\n",
      "total sulfur dioxide    0\n",
      "density                 0\n",
      "pH                      0\n",
      "sulphates               0\n",
      "alcohol                 0\n",
      "quality                 0\n",
      "dtype: int64\n",
      "\n",
      "Valores nulos en el dataset de vino blanco:\n",
      "fixed acidity           0\n",
      "volatile acidity        0\n",
      "citric acid             0\n",
      "residual sugar          0\n",
      "chlorides               0\n",
      "free sulfur dioxide     0\n",
      "total sulfur dioxide    0\n",
      "density                 0\n",
      "pH                      0\n",
      "sulphates               0\n",
      "alcohol                 0\n",
      "quality                 0\n",
      "dtype: int64\n"
     ]
    }
   ],
   "source": [
    "# Revisar si hay valores nulos en los datasets\n",
    "print(\"\\nValores nulos en el dataset de vino tinto:\")\n",
    "print(red_wine.isnull().sum())\n",
    "\n",
    "print(\"\\nValores nulos en el dataset de vino blanco:\")\n",
    "print(white_wine.isnull().sum())\n",
    "\n",
    "# Si hubiera valores nulos, podemos optar por eliminar o imputar esos valores\n",
    "# red_wine = red_wine.dropna()  # O bien, imputar con red_wine.fillna(0) o un valor medio/mediano\n",
    "# white_wine = white_wine.dropna()  # Lo mismo para vino blanco\n"
   ]
  },
  {
   "cell_type": "code",
   "execution_count": 5,
   "metadata": {},
   "outputs": [
    {
     "name": "stdout",
     "output_type": "stream",
     "text": [
      "\n",
      "Tipos de datos en el dataset de vino tinto:\n",
      "fixed acidity           float64\n",
      "volatile acidity        float64\n",
      "citric acid             float64\n",
      "residual sugar          float64\n",
      "chlorides               float64\n",
      "free sulfur dioxide     float64\n",
      "total sulfur dioxide    float64\n",
      "density                 float64\n",
      "pH                      float64\n",
      "sulphates               float64\n",
      "alcohol                 float64\n",
      "quality                   int64\n",
      "dtype: object\n",
      "\n",
      "Tipos de datos en el dataset de vino blanco:\n",
      "fixed acidity           float64\n",
      "volatile acidity        float64\n",
      "citric acid             float64\n",
      "residual sugar          float64\n",
      "chlorides               float64\n",
      "free sulfur dioxide     float64\n",
      "total sulfur dioxide    float64\n",
      "density                 float64\n",
      "pH                      float64\n",
      "sulphates               float64\n",
      "alcohol                 float64\n",
      "quality                   int64\n",
      "dtype: object\n"
     ]
    }
   ],
   "source": [
    "# Verificar tipos de datos en ambos datasets\n",
    "print(\"\\nTipos de datos en el dataset de vino tinto:\")\n",
    "print(red_wine.dtypes)\n",
    "\n",
    "print(\"\\nTipos de datos en el dataset de vino blanco:\")\n",
    "print(white_wine.dtypes)"
   ]
  },
  {
   "cell_type": "code",
   "execution_count": 6,
   "metadata": {},
   "outputs": [
    {
     "name": "stdout",
     "output_type": "stream",
     "text": [
      "\n",
      "Tamaño del dataset de vino tinto (entrenamiento y prueba):\n",
      "Train size: (1279, 11), Test size: (320, 11)\n",
      "\n",
      "Tamaño del dataset de vino blanco (entrenamiento y prueba):\n",
      "Train size: (3918, 11), Test size: (980, 11)\n"
     ]
    }
   ],
   "source": [
    "# Dividir el dataset en características (X) y etiquetas (y) para vino tinto\n",
    "X_red = red_wine.drop('quality', axis=1)  # Características (features)\n",
    "y_red = red_wine['quality']  # Etiquetas (target)\n",
    "\n",
    "# Dividir el dataset en características (X) y etiquetas (y) para vino blanco\n",
    "X_white = white_wine.drop('quality', axis=1)  # Características (features)\n",
    "y_white = white_wine['quality']  # Etiquetas (target)\n",
    "\n",
    "# Dividir en conjunto de entrenamiento y prueba (80% entrenamiento, 20% prueba)\n",
    "X_train_red, X_test_red, y_train_red, y_test_red = train_test_split(X_red, y_red, test_size=0.2, random_state=42)\n",
    "X_train_white, X_test_white, y_train_white, y_test_white = train_test_split(X_white, y_white, test_size=0.2, random_state=42)\n",
    "\n",
    "# Crear un pipeline para preprocesar los datos (imputar y escalar)\n",
    "pipeline_red = Pipeline([\n",
    "    ('imputer', SimpleImputer(strategy='mean')),  # Imputación de valores faltantes con la media\n",
    "    ('scaler', StandardScaler())  # Normalización de las características\n",
    "])\n",
    "\n",
    "pipeline_white = Pipeline([\n",
    "    ('imputer', SimpleImputer(strategy='mean')),  # Imputación de valores faltantes con la media\n",
    "    ('scaler', StandardScaler())  # Normalización de las características\n",
    "])\n",
    "\n",
    "# Ajustar y transformar los datos de entrenamiento, luego transformar los de prueba\n",
    "X_train_red = pipeline_red.fit_transform(X_train_red)\n",
    "X_test_red = pipeline_red.transform(X_test_red)\n",
    "\n",
    "X_train_white = pipeline_white.fit_transform(X_train_white)\n",
    "X_test_white = pipeline_white.transform(X_test_white)\n",
    "\n",
    "# Mostrar el tamaño de los conjuntos de entrenamiento y prueba\n",
    "print(\"\\nTamaño del dataset de vino tinto (entrenamiento y prueba):\")\n",
    "print(f\"Train size: {X_train_red.shape}, Test size: {X_test_red.shape}\")\n",
    "\n",
    "print(\"\\nTamaño del dataset de vino blanco (entrenamiento y prueba):\")\n",
    "print(f\"Train size: {X_train_white.shape}, Test size: {X_test_white.shape}\")"
   ]
  },
  {
   "cell_type": "code",
   "execution_count": 7,
   "metadata": {},
   "outputs": [],
   "source": [
    "pd.DataFrame(X_train_red).to_csv('X_train_red.csv', index=False)\n",
    "pd.DataFrame(X_test_red).to_csv('X_test_red.csv', index=False)\n"
   ]
  },
  {
   "cell_type": "code",
   "execution_count": 12,
   "metadata": {},
   "outputs": [],
   "source": [
    "pd.DataFrame(X_train_white).to_csv('X_train_white.csv', index=False)\n",
    "pd.DataFrame(X_test_white).to_csv('X_test_white.csv', index=False)"
   ]
  },
  {
   "cell_type": "code",
   "execution_count": 11,
   "metadata": {},
   "outputs": [],
   "source": [
    "pd.DataFrame(y_train_red).to_csv('y_train_red.csv', index=False)\n",
    "pd.DataFrame(y_test_red).to_csv('y_test_red.csv', index=False)\n",
    "\n",
    "pd.DataFrame(y_train_white).to_csv('y_train_white.csv', index=False)\n",
    "pd.DataFrame(y_test_white).to_csv('y_test_white.csv', index=False)\n",
    "\n"
   ]
  }
 ],
 "metadata": {
  "kernelspec": {
   "display_name": "Python 3",
   "language": "python",
   "name": "python3"
  },
  "language_info": {
   "codemirror_mode": {
    "name": "ipython",
    "version": 3
   },
   "file_extension": ".py",
   "mimetype": "text/x-python",
   "name": "python",
   "nbconvert_exporter": "python",
   "pygments_lexer": "ipython3",
   "version": "3.13.0"
  }
 },
 "nbformat": 4,
 "nbformat_minor": 2
}
