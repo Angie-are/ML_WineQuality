{
 "cells": [
  {
   "cell_type": "code",
   "execution_count": 14,
   "metadata": {},
   "outputs": [],
   "source": [
    "import pandas as pd\n",
    "import numpy as np\n",
    "from sklearn.model_selection import train_test_split\n",
    "from sklearn.metrics import mean_squared_error, accuracy_score\n",
    "import xgboost as xgb\n",
    "import joblib"
   ]
  },
  {
   "cell_type": "code",
   "execution_count": 15,
   "metadata": {},
   "outputs": [],
   "source": [
    "red_wine = pd.read_csv(r'C:\\Users\\angel\\OneDrive\\Documentos\\DATA_SCIENCE\\Bootcamp\\ML_WineQuality\\data\\winequality-red.csv', delimiter=';')\n",
    "white_wine = pd.read_csv(r'C:\\Users\\angel\\OneDrive\\Documentos\\DATA_SCIENCE\\Bootcamp\\ML_WineQuality\\data\\winequality-white.csv', delimiter=';')"
   ]
  },
  {
   "cell_type": "code",
   "execution_count": 16,
   "metadata": {},
   "outputs": [],
   "source": [
    "X_red = red_wine.drop('quality', axis=1)\n",
    "y_red = red_wine['quality']\n",
    "\n",
    "X_white = white_wine.drop('quality', axis=1)\n",
    "y_white = white_wine['quality']\n",
    "\n",
    "X_train_red, X_test_red, y_train_red, y_test_red = train_test_split(X_red, y_red, test_size=0.2, random_state=42)\n",
    "X_train_white, X_test_white, y_train_white, y_test_white = train_test_split(X_white, y_white, test_size=0.2, random_state=42)"
   ]
  },
  {
   "cell_type": "code",
   "execution_count": 17,
   "metadata": {},
   "outputs": [
    {
     "name": "stdout",
     "output_type": "stream",
     "text": [
      "MSE para el vino tinto: 0.35126441717147827\n",
      "MSE para el vino blanco: 0.38015004992485046\n"
     ]
    }
   ],
   "source": [
    "model_red = xgb.XGBRegressor(objective='reg:squarederror', random_state=42)\n",
    "model_red.fit(X_train_red, y_train_red)\n",
    "model_white = xgb.XGBRegressor(objective='reg:squarederror', random_state=42)\n",
    "model_white.fit(X_train_white, y_train_white)\n",
    "y_pred_red = model_red.predict(X_test_red)\n",
    "y_pred_white = model_white.predict(X_test_white)\n",
    "\n",
    "mse_red = mean_squared_error(y_test_red, y_pred_red)\n",
    "print(f'MSE para el vino tinto: {mse_red}')\n",
    "mse_white = mean_squared_error(y_test_white, y_pred_white)\n",
    "print(f'MSE para el vino blanco: {mse_white}')"
   ]
  },
  {
   "cell_type": "code",
   "execution_count": 18,
   "metadata": {},
   "outputs": [
    {
     "data": {
      "text/plain": [
       "['model_white_wine.pkl']"
      ]
     },
     "execution_count": 18,
     "metadata": {},
     "output_type": "execute_result"
    }
   ],
   "source": [
    "joblib.dump(model_red, 'model_red_wine.pkl')\n",
    "joblib.dump(model_white, 'model_white_wine.pkl')"
   ]
  }
 ],
 "metadata": {
  "kernelspec": {
   "display_name": "Python 3",
   "language": "python",
   "name": "python3"
  },
  "language_info": {
   "codemirror_mode": {
    "name": "ipython",
    "version": 3
   },
   "file_extension": ".py",
   "mimetype": "text/x-python",
   "name": "python",
   "nbconvert_exporter": "python",
   "pygments_lexer": "ipython3",
   "version": "3.13.0"
  }
 },
 "nbformat": 4,
 "nbformat_minor": 2
}
